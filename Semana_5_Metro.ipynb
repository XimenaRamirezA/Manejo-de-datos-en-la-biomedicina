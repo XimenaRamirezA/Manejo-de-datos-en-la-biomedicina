{
  "nbformat": 4,
  "nbformat_minor": 0,
  "metadata": {
    "colab": {
      "provenance": [],
      "authorship_tag": "ABX9TyMRSg8qlEafq8jaOOp/QlB1",
      "include_colab_link": true
    },
    "kernelspec": {
      "name": "python3",
      "display_name": "Python 3"
    },
    "language_info": {
      "name": "python"
    }
  },
  "cells": [
    {
      "cell_type": "markdown",
      "metadata": {
        "id": "view-in-github",
        "colab_type": "text"
      },
      "source": [
        "<a href=\"https://colab.research.google.com/github/XimenaRamirezA/Manejo-de-datos-en-la-biomedicina/blob/main/Semana_5_Metro.ipynb\" target=\"_parent\"><img src=\"https://colab.research.google.com/assets/colab-badge.svg\" alt=\"Open In Colab\"/></a>"
      ]
    },
    {
      "cell_type": "markdown",
      "source": [
        "# **ACTIVIDAS SEMANA 5**\n",
        "Ximena Montserrat Ramirez Aguilar 1952503\n",
        "\n",
        "*Metrología clínica*"
      ],
      "metadata": {
        "id": "MvKXSQ_-S9xG"
      }
    },
    {
      "cell_type": "code",
      "execution_count": 1,
      "metadata": {
        "id": "g9cE0MmsS5vx"
      },
      "outputs": [],
      "source": [
        "import pandas as pd\n",
        "import statistics"
      ]
    },
    {
      "cell_type": "code",
      "source": [
        "# Diccionario\n",
        "data = {\n",
        "    \"Measurement\": [1, 2, 3, 4, 5, 6, 7, 8, 9, 10, 11, 12, 13, 14, 15, 16, 17, 18, 19, 20, 21, 22, 23, 24, 25, 26, 27, 28, 29, 30, 31, 32, 33, 34, 35, 36],\n",
        "    \"Length (m)\": [1.118, 1.262, 1.118, 0.480, 1.014, 0.955, 0.978, 0.972, 1.190, 1.055, 0.886, 1.071, 0.861, 1.055, 0.834, 1.106, 0.912, 0.773, 0.958, 1.152, 1.324, 2.192, 0.779, 0.692, 1.036, 1.618, 1.187, 0.884, 0.858, 1.269, 0.811, 0.811, 0.636, 0.710, 0.675, 0.830]\n",
        "}"
      ],
      "metadata": {
        "id": "C5ATTckxWSZH"
      },
      "execution_count": 2,
      "outputs": []
    },
    {
      "cell_type": "code",
      "source": [
        "# DataFrame a partir del Diccionario\n",
        "df = pd.DataFrame(data)\n",
        "\n",
        "# Estadística descriptiva por cada columna de la tabla de Datos\n",
        "print(df.describe())"
      ],
      "metadata": {
        "colab": {
          "base_uri": "https://localhost:8080/"
        },
        "id": "4_iDWDVnWSgl",
        "outputId": "8574ba85-f67f-4391-9df8-9efee189f8b1"
      },
      "execution_count": 3,
      "outputs": [
        {
          "output_type": "stream",
          "name": "stdout",
          "text": [
            "       Measurement  Length (m)\n",
            "count    36.000000   36.000000\n",
            "mean     18.500000    1.001722\n",
            "std      10.535654    0.301851\n",
            "min       1.000000    0.480000\n",
            "25%       9.750000    0.825250\n",
            "50%      18.500000    0.965000\n",
            "75%      27.250000    1.118000\n",
            "max      36.000000    2.192000\n"
          ]
        }
      ]
    },
    {
      "cell_type": "code",
      "source": [
        "# Nueva variable por cada columna\n",
        "measurement_group1 = df[df[\"Measurement\"] <= 12][\"Length (m)\"]\n",
        "measurement_group2 = df[(df[\"Measurement\"] > 12) & (df[\"Measurement\"] <= 24)][\"Length (m)\"]\n",
        "measurement_group3 = df[df[\"Measurement\"] > 24][\"Length (m)\"]"
      ],
      "metadata": {
        "id": "jhWfHbKDWyqO"
      },
      "execution_count": 4,
      "outputs": []
    },
    {
      "cell_type": "code",
      "source": [
        "# Estadistica descriptiva de las variables del punto anterior\n",
        "statistics_group1 = {\n",
        "    \"mean\": statistics.mean(measurement_group1),\n",
        "    \"median\": statistics.median(measurement_group1),\n",
        "    \"variance\": statistics.variance(measurement_group1),\n",
        "    \"standard_deviation\": statistics.stdev(measurement_group1),\n",
        "}\n",
        "print(f\"\\nEstadística descriptiva del grupo 1 (Measurement <= 12): {statistics_group1}\")\n",
        "\n",
        "statistics_group2 = {\n",
        "    \"mean\": statistics.mean(measurement_group2),\n",
        "    \"median\": statistics.median(measurement_group2),\n",
        "    \"variance\": statistics.variance(measurement_group2),\n",
        "    \"standard_deviation\": statistics.stdev(measurement_group2),\n",
        "}\n",
        "print(f\"\\nEstadística descriptiva del grupo 2 (12 < Measurement <= 24): {statistics_group2}\")\n",
        "\n",
        "statistics_group3 = {\n",
        "    \"mean\": statistics.mean(measurement_group3),\n",
        "    \"median\": statistics.median(measurement_group3),\n",
        "    \"variance\": statistics.variance(measurement_group3),\n",
        "    \"standard_deviation\": statistics.stdev(measurement_group3),\n",
        "}\n",
        "print(f\"\\nEstadística descriptiva del grupo 3 (Measurement > 24): {statistics_group3}\")\n"
      ],
      "metadata": {
        "colab": {
          "base_uri": "https://localhost:8080/"
        },
        "id": "LLTvmUGDXKEJ",
        "outputId": "29c08ccb-11e8-4398-c20b-3ee68ea9e9a6"
      },
      "execution_count": 6,
      "outputs": [
        {
          "output_type": "stream",
          "name": "stdout",
          "text": [
            "\n",
            "Estadística descriptiva del grupo 1 (Measurement <= 12): {'mean': 1.00825, 'median': 1.0345, 'variance': 0.038793295454545455, 'standard_deviation': 0.19696013671437543}\n",
            "\n",
            "Estadística descriptiva del grupo 2 (12 < Measurement <= 24): {'mean': 1.0531666666666666, 'median': 0.935, 'variance': 0.16190033333333337, 'standard_deviation': 0.40236840498892723}\n",
            "\n",
            "Estadística descriptiva del grupo 3 (Measurement > 24): {'mean': 0.94375, 'median': 0.844, 'variance': 0.08261493181818183, 'standard_deviation': 0.28742813331019257}\n"
          ]
        }
      ]
    },
    {
      "cell_type": "code",
      "source": [
        "# Comparación con los resultados obtenidos a través de Pandas y statistics\n",
        "print(\"\\nComparación de resultados:\")\n",
        "print(\"-----------------------\")\n",
        "\n",
        "print(\"\\nGrupo 1 (Measurement <= 12):\")\n",
        "print(\"Pandas:\")\n",
        "print(measurement_group1.describe())\n",
        "print(\"Statistics:\")\n",
        "print(statistics_group1)\n",
        "\n",
        "print(\"\\nGrupo 2 (12 < Measurement <= 24):\")\n",
        "print(\"Pandas:\")\n",
        "print(measurement_group2.describe())\n",
        "print(\"Statistics:\")\n",
        "print(statistics_group2)\n",
        "\n",
        "print(\"\\nGrupo 3 (Measurement > 24):\")\n",
        "print(\"Pandas:\")\n",
        "print(measurement_group3.describe())\n",
        "print(\"Statistics:\")\n",
        "print(statistics_group3)"
      ],
      "metadata": {
        "colab": {
          "base_uri": "https://localhost:8080/"
        },
        "id": "NBhJtMtLXdAM",
        "outputId": "407137dd-a5bf-4b20-b24b-d52e53ba6fce"
      },
      "execution_count": 7,
      "outputs": [
        {
          "output_type": "stream",
          "name": "stdout",
          "text": [
            "\n",
            "Comparación de resultados:\n",
            "-----------------------\n",
            "\n",
            "Grupo 1 (Measurement <= 12):\n",
            "Pandas:\n",
            "count    12.00000\n",
            "mean      1.00825\n",
            "std       0.19696\n",
            "min       0.48000\n",
            "25%       0.96775\n",
            "50%       1.03450\n",
            "75%       1.11800\n",
            "max       1.26200\n",
            "Name: Length (m), dtype: float64\n",
            "Statistics:\n",
            "{'mean': 1.00825, 'median': 1.0345, 'variance': 0.038793295454545455, 'standard_deviation': 0.19696013671437543}\n",
            "\n",
            "Grupo 2 (12 < Measurement <= 24):\n",
            "Pandas:\n",
            "count    12.000000\n",
            "mean      1.053167\n",
            "std       0.402368\n",
            "min       0.692000\n",
            "25%       0.820250\n",
            "50%       0.935000\n",
            "75%       1.117500\n",
            "max       2.192000\n",
            "Name: Length (m), dtype: float64\n",
            "Statistics:\n",
            "{'mean': 1.0531666666666666, 'median': 0.935, 'variance': 0.16190033333333337, 'standard_deviation': 0.40236840498892723}\n",
            "\n",
            "Grupo 3 (Measurement > 24):\n",
            "Pandas:\n",
            "count    12.000000\n",
            "mean      0.943750\n",
            "std       0.287428\n",
            "min       0.636000\n",
            "25%       0.785750\n",
            "50%       0.844000\n",
            "75%       1.073750\n",
            "max       1.618000\n",
            "Name: Length (m), dtype: float64\n",
            "Statistics:\n",
            "{'mean': 0.94375, 'median': 0.844, 'variance': 0.08261493181818183, 'standard_deviation': 0.28742813331019257}\n"
          ]
        }
      ]
    }
  ]
}